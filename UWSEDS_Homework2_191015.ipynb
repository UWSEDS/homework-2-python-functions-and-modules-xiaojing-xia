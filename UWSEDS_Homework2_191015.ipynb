{
 "cells": [
  {
   "cell_type": "markdown",
   "metadata": {},
   "source": [
    "# Import module homework.py as hm2"
   ]
  },
  {
   "cell_type": "code",
   "execution_count": 91,
   "metadata": {},
   "outputs": [],
   "source": [
    "import homework2 as hm2\n"
   ]
  },
  {
   "cell_type": "markdown",
   "metadata": {},
   "source": [
    "# 1. Apply the function in hm2 module to load the data from the link\n",
    "## preview the data"
   ]
  },
  {
   "cell_type": "code",
   "execution_count": 92,
   "metadata": {},
   "outputs": [
    {
     "data": {
      "text/html": [
       "<div>\n",
       "<style scoped>\n",
       "    .dataframe tbody tr th:only-of-type {\n",
       "        vertical-align: middle;\n",
       "    }\n",
       "\n",
       "    .dataframe tbody tr th {\n",
       "        vertical-align: top;\n",
       "    }\n",
       "\n",
       "    .dataframe thead th {\n",
       "        text-align: right;\n",
       "    }\n",
       "</style>\n",
       "<table border=\"1\" class=\"dataframe\">\n",
       "  <thead>\n",
       "    <tr style=\"text-align: right;\">\n",
       "      <th></th>\n",
       "      <th>Date</th>\n",
       "      <th>Fremont Bridge East Sidewalk</th>\n",
       "      <th>Fremont Bridge West Sidewalk</th>\n",
       "    </tr>\n",
       "  </thead>\n",
       "  <tbody>\n",
       "    <tr>\n",
       "      <td>0</td>\n",
       "      <td>01/01/2019 12:00:00 AM</td>\n",
       "      <td>0.0</td>\n",
       "      <td>9.0</td>\n",
       "    </tr>\n",
       "    <tr>\n",
       "      <td>1</td>\n",
       "      <td>01/01/2019 01:00:00 AM</td>\n",
       "      <td>2.0</td>\n",
       "      <td>22.0</td>\n",
       "    </tr>\n",
       "    <tr>\n",
       "      <td>2</td>\n",
       "      <td>01/01/2019 02:00:00 AM</td>\n",
       "      <td>1.0</td>\n",
       "      <td>11.0</td>\n",
       "    </tr>\n",
       "    <tr>\n",
       "      <td>3</td>\n",
       "      <td>01/01/2019 03:00:00 AM</td>\n",
       "      <td>1.0</td>\n",
       "      <td>2.0</td>\n",
       "    </tr>\n",
       "    <tr>\n",
       "      <td>4</td>\n",
       "      <td>01/01/2019 04:00:00 AM</td>\n",
       "      <td>2.0</td>\n",
       "      <td>1.0</td>\n",
       "    </tr>\n",
       "    <tr>\n",
       "      <td>...</td>\n",
       "      <td>...</td>\n",
       "      <td>...</td>\n",
       "      <td>...</td>\n",
       "    </tr>\n",
       "    <tr>\n",
       "      <td>61291</td>\n",
       "      <td>02/29/2016 12:00:00 AM</td>\n",
       "      <td>2.0</td>\n",
       "      <td>2.0</td>\n",
       "    </tr>\n",
       "    <tr>\n",
       "      <td>61292</td>\n",
       "      <td>09/13/2013 03:00:00 AM</td>\n",
       "      <td>1.0</td>\n",
       "      <td>1.0</td>\n",
       "    </tr>\n",
       "    <tr>\n",
       "      <td>61293</td>\n",
       "      <td>12/07/2016 12:00:00 AM</td>\n",
       "      <td>3.0</td>\n",
       "      <td>3.0</td>\n",
       "    </tr>\n",
       "    <tr>\n",
       "      <td>61294</td>\n",
       "      <td>03/29/2013 04:00:00 AM</td>\n",
       "      <td>1.0</td>\n",
       "      <td>1.0</td>\n",
       "    </tr>\n",
       "    <tr>\n",
       "      <td>61295</td>\n",
       "      <td>05/24/2017 01:00:00 AM</td>\n",
       "      <td>4.0</td>\n",
       "      <td>4.0</td>\n",
       "    </tr>\n",
       "  </tbody>\n",
       "</table>\n",
       "<p>61296 rows × 3 columns</p>\n",
       "</div>"
      ],
      "text/plain": [
       "                         Date  Fremont Bridge East Sidewalk  \\\n",
       "0      01/01/2019 12:00:00 AM                           0.0   \n",
       "1      01/01/2019 01:00:00 AM                           2.0   \n",
       "2      01/01/2019 02:00:00 AM                           1.0   \n",
       "3      01/01/2019 03:00:00 AM                           1.0   \n",
       "4      01/01/2019 04:00:00 AM                           2.0   \n",
       "...                       ...                           ...   \n",
       "61291  02/29/2016 12:00:00 AM                           2.0   \n",
       "61292  09/13/2013 03:00:00 AM                           1.0   \n",
       "61293  12/07/2016 12:00:00 AM                           3.0   \n",
       "61294  03/29/2013 04:00:00 AM                           1.0   \n",
       "61295  05/24/2017 01:00:00 AM                           4.0   \n",
       "\n",
       "       Fremont Bridge West Sidewalk  \n",
       "0                               9.0  \n",
       "1                              22.0  \n",
       "2                              11.0  \n",
       "3                               2.0  \n",
       "4                               1.0  \n",
       "...                             ...  \n",
       "61291                           2.0  \n",
       "61292                           1.0  \n",
       "61293                           3.0  \n",
       "61294                           1.0  \n",
       "61295                           4.0  \n",
       "\n",
       "[61296 rows x 3 columns]"
      ]
     },
     "execution_count": 92,
     "metadata": {},
     "output_type": "execute_result"
    }
   ],
   "source": [
    "url=\"https://data.seattle.gov/api/views/65db-xm6k/rows.csv?accessType=DOWNLOAD\" # try other link to test the code, need \"\"\n",
    "df=hm2.read_url(url)\n",
    "df"
   ]
  },
  {
   "cell_type": "markdown",
   "metadata": {},
   "source": [
    "# 2. Use the function \"test_create_dataframe\" in the module hm2 to examine if the data hold the following conditions:\n",
    "\n",
    "### The DataFrame contains only the columns that you specified as the second argument.\n",
    "### The values in each column have the same python type\n",
    "### There are at least 10 rows in the DataFrame.\n",
    "## (This function also prints the details of each condition)"
   ]
  },
  {
   "cell_type": "code",
   "execution_count": 93,
   "metadata": {},
   "outputs": [
    {
     "name": "stdout",
     "output_type": "stream",
     "text": [
      "There are at least 10 rows in the DataFrame - True\n",
      "The DataFrame contains only the columns that you specified as the second argument - True\n",
      "The values in each column have the same python type - False\n"
     ]
    }
   ],
   "source": [
    "column_name=[\"Date\",\"Fremont Bridge East Sidewalk\",\"Fremont Bridge West Sidewalk\"] # try other column names to test the code\n",
    "result=hm2.test_create_dataframe(df,column_name)"
   ]
  },
  {
   "cell_type": "markdown",
   "metadata": {},
   "source": [
    "# The result (True/False):"
   ]
  },
  {
   "cell_type": "code",
   "execution_count": 94,
   "metadata": {},
   "outputs": [
    {
     "data": {
      "text/plain": [
       "False"
      ]
     },
     "execution_count": 94,
     "metadata": {},
     "output_type": "execute_result"
    }
   ],
   "source": [
    "result"
   ]
  }
 ],
 "metadata": {
  "kernelspec": {
   "display_name": "Python 3",
   "language": "python",
   "name": "python3"
  },
  "language_info": {
   "codemirror_mode": {
    "name": "ipython",
    "version": 3
   },
   "file_extension": ".py",
   "mimetype": "text/x-python",
   "name": "python",
   "nbconvert_exporter": "python",
   "pygments_lexer": "ipython3",
   "version": "3.7.3"
  }
 },
 "nbformat": 4,
 "nbformat_minor": 2
}
